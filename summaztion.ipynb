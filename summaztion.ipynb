{
  "nbformat": 4,
  "nbformat_minor": 0,
  "metadata": {
    "colab": {
      "name": "summaztion",
      "provenance": []
    },
    "kernelspec": {
      "name": "python3",
      "display_name": "Python 3"
    },
    "accelerator": "TPU"
  },
  "cells": [
    {
      "cell_type": "code",
      "metadata": {
        "id": "EKfxb-Dk66Pd",
        "colab_type": "code",
        "colab": {
          "base_uri": "https://localhost:8080/",
          "height": 86
        },
        "outputId": "6a86a895-3ea7-41b9-b6ab-cdb29c90fa2b"
      },
      "source": [
        "!git clone https://github.com/thushv89/attention_keras.git"
      ],
      "execution_count": 1,
      "outputs": [
        {
          "output_type": "stream",
          "text": [
            "Cloning into 'attention_keras'...\n",
            "remote: Enumerating objects: 99, done.\u001b[K\n",
            "remote: Total 99 (delta 0), reused 0 (delta 0), pack-reused 99\u001b[K\n",
            "Unpacking objects: 100% (99/99), done.\n"
          ],
          "name": "stdout"
        }
      ]
    },
    {
      "cell_type": "code",
      "metadata": {
        "id": "-njtIhZs7HMl",
        "colab_type": "code",
        "colab": {}
      },
      "source": [
        "from attention_keras.layers.attention import AttentionLayer"
      ],
      "execution_count": 0,
      "outputs": []
    },
    {
      "cell_type": "code",
      "metadata": {
        "id": "Kzo_NUji7VBW",
        "colab_type": "code",
        "colab": {}
      },
      "source": [
        "import numpy as np\n",
        "import pandas as pd \n",
        "import re\n",
        "from bs4 import BeautifulSoup\n",
        "from keras.preprocessing.text import Tokenizer \n",
        "from keras.preprocessing.sequence import pad_sequences\n",
        "from nltk.corpus import stopwords\n",
        "from tensorflow.keras.layers import Input, LSTM, Embedding, Dense, Concatenate, TimeDistributed\n",
        "from tensorflow.keras.models import Model\n",
        "from tensorflow.keras.callbacks import EarlyStopping\n",
        "import warnings\n",
        "pd.set_option(\"display.max_colwidth\", 200)\n",
        "warnings.filterwarnings(\"ignore\")"
      ],
      "execution_count": 0,
      "outputs": []
    },
    {
      "cell_type": "code",
      "metadata": {
        "id": "S_wJHIR-7YNM",
        "colab_type": "code",
        "colab": {}
      },
      "source": [
        "data=pd.read_csv(\"/content/perprocessed_dataset.csv\")"
      ],
      "execution_count": 0,
      "outputs": []
    },
    {
      "cell_type": "code",
      "metadata": {
        "id": "vCksVJJG7iXt",
        "colab_type": "code",
        "colab": {}
      },
      "source": [
        "data.replace('', np.nan, inplace=True)\n",
        "data.dropna(axis=0,inplace=True)\n"
      ],
      "execution_count": 0,
      "outputs": []
    },
    {
      "cell_type": "code",
      "metadata": {
        "id": "dcD56g327uIL",
        "colab_type": "code",
        "colab": {
          "base_uri": "https://localhost:8080/",
          "height": 281
        },
        "outputId": "9a8f4d53-e14b-4d71-8b51-186fd484f475"
      },
      "source": [
        "import matplotlib.pyplot as plt\n",
        "\n",
        "text_word_count = []\n",
        "summary_word_count = []\n",
        "\n",
        "# populate the lists with sentence lengths\n",
        "for i in data['Title']:\n",
        "      text_word_count.append(len(i.split()))\n",
        "\n",
        "for i in data['Body']:\n",
        "      summary_word_count.append(len(i.split()))\n",
        "\n",
        "length_df = pd.DataFrame({'text':text_word_count, 'summary':summary_word_count})\n",
        "\n",
        "length_df.hist(bins = 30)\n",
        "plt.show()"
      ],
      "execution_count": 48,
      "outputs": [
        {
          "output_type": "display_data",
          "data": {
            "image/png": "[encoded data removed]",
            "text/plain": [
              "<Figure size 432x288 with 2 Axes>"
            ]
          },
          "metadata": {
            "tags": []
          }
        }
      ]
    },
    {
      "cell_type": "code",
      "metadata": {
        "id": "OKPXJ2PF757M",
        "colab_type": "code",
        "colab": {}
      },
      "source": [
        "max_text_len=30\n",
        "max_summary_len=30\n"
      ],
      "execution_count": 0,
      "outputs": []
    },
    {
      "cell_type": "code",
      "metadata": {
        "id": "X5oVjyWa8MHx",
        "colab_type": "code",
        "colab": {}
      },
      "source": [
        "data1=data.copy()"
      ],
      "execution_count": 0,
      "outputs": []
    },
    {
      "cell_type": "code",
      "metadata": {
        "id": "TVwmnUOD8f9d",
        "colab_type": "code",
        "colab": {}
      },
      "source": [
        "data1['Title']=data1['Title'].apply(lambda x : 'sostok '+ x + ' eostok')"
      ],
      "execution_count": 0,
      "outputs": []
    },
    {
      "cell_type": "code",
      "metadata": {
        "id": "sWJ9L-MP8n7Y",
        "colab_type": "code",
        "colab": {}
      },
      "source": [
        "from sklearn.model_selection import train_test_split\n",
        "x_tr,x_val,y_tr,y_val=train_test_split(np.array(data['Body']),np.array(data1['Title']),test_size=0.1,random_state=0,shuffle=True)\n"
      ],
      "execution_count": 0,
      "outputs": []
    },
    {
      "cell_type": "code",
      "metadata": {
        "id": "LCLsLA4-8w9-",
        "colab_type": "code",
        "colab": {}
      },
      "source": [
        "from keras.preprocessing.text import Tokenizer \n",
        "from keras.preprocessing.sequence import pad_sequences\n",
        "\n",
        "#prepare a tokenizer for reviews on training data\n",
        "x_tokenizer = Tokenizer() \n",
        "x_tokenizer.fit_on_texts(list(x_tr))\n"
      ],
      "execution_count": 0,
      "outputs": []
    },
    {
      "cell_type": "code",
      "metadata": {
        "id": "5vv1JD1y80sl",
        "colab_type": "code",
        "colab": {
          "base_uri": "https://localhost:8080/",
          "height": 52
        },
        "outputId": "6f5b0a87-add5-4a95-9351-fc0c6ade49f7"
      },
      "source": [
        "thresh=4\n",
        "\n",
        "cnt=0\n",
        "tot_cnt=0\n",
        "freq=0\n",
        "tot_freq=0\n",
        "\n",
        "for key,value in x_tokenizer.word_counts.items():\n",
        "    tot_cnt=tot_cnt+1\n",
        "    tot_freq=tot_freq+value\n",
        "    if(value<thresh):\n",
        "        cnt=cnt+1\n",
        "        freq=freq+value\n",
        "    \n",
        "print(\"% of rare words in vocabulary:\",(cnt/tot_cnt)*100)\n",
        "print(\"Total Coverage of rare words:\",(freq/tot_freq)*100)"
      ],
      "execution_count": 88,
      "outputs": [
        {
          "output_type": "stream",
          "text": [
            "% of rare words in vocabulary: 45.516697344201944\n",
            "Total Coverage of rare words: 2.214035241039534\n"
          ],
          "name": "stdout"
        }
      ]
    },
    {
      "cell_type": "code",
      "metadata": {
        "id": "mcmcFua484JB",
        "colab_type": "code",
        "colab": {}
      },
      "source": [
        "#prepare a tokenizer for reviews on training data\n",
        "x_tokenizer = Tokenizer(num_words=tot_cnt-cnt) \n",
        "x_tokenizer.fit_on_texts(list(x_tr))\n",
        "\n",
        "#convert text sequences into integer sequences\n",
        "x_tr_seq    =   x_tokenizer.texts_to_sequences(x_tr) \n",
        "x_val_seq   =   x_tokenizer.texts_to_sequences(x_val)\n",
        "\n",
        "#padding zero upto maximum length\n",
        "x_tr    =   pad_sequences(x_tr_seq,  maxlen=max_text_len, padding='post')\n",
        "x_val   =   pad_sequences(x_val_seq, maxlen=max_text_len, padding='post')\n",
        "\n",
        "#size of vocabulary ( +1 for padding token)\n",
        "x_voc   =  x_tokenizer.num_words + 1"
      ],
      "execution_count": 0,
      "outputs": []
    },
    {
      "cell_type": "code",
      "metadata": {
        "id": "nxh-2C7U88fA",
        "colab_type": "code",
        "colab": {
          "base_uri": "https://localhost:8080/",
          "height": 34
        },
        "outputId": "8f7d455b-ad9a-4347-e1bb-393369363607"
      },
      "source": [
        "x_voc"
      ],
      "execution_count": 90,
      "outputs": [
        {
          "output_type": "execute_result",
          "data": {
            "text/plain": [
              "6217"
            ]
          },
          "metadata": {
            "tags": []
          },
          "execution_count": 90
        }
      ]
    },
    {
      "cell_type": "code",
      "metadata": {
        "id": "VnsiJHTZ8-UP",
        "colab_type": "code",
        "colab": {}
      },
      "source": [
        "#prepare a tokenizer for reviews on training data\n",
        "y_tokenizer = Tokenizer()   \n",
        "y_tokenizer.fit_on_texts(list(y_tr))\n"
      ],
      "execution_count": 0,
      "outputs": []
    },
    {
      "cell_type": "code",
      "metadata": {
        "id": "dHZJYjt19DB2",
        "colab_type": "code",
        "colab": {
          "base_uri": "https://localhost:8080/",
          "height": 52
        },
        "outputId": "b5de8002-e74d-43f3-b16d-229f1be42c62"
      },
      "source": [
        "\n",
        "\n",
        "thresh=6\n",
        "\n",
        "cnt=0\n",
        "tot_cnt=0\n",
        "freq=0\n",
        "tot_freq=0\n",
        "\n",
        "for key,value in y_tokenizer.word_counts.items():\n",
        "    tot_cnt=tot_cnt+1\n",
        "    tot_freq=tot_freq+value\n",
        "    if(value<thresh):\n",
        "        cnt=cnt+1\n",
        "        freq=freq+value\n",
        "    \n",
        "print(\"% of rare words in vocabulary:\",(cnt/tot_cnt)*100)\n",
        "print(\"Total Coverage of rare words:\",(freq/tot_freq)*100)"
      ],
      "execution_count": 92,
      "outputs": [
        {
          "output_type": "stream",
          "text": [
            "% of rare words in vocabulary: 79.06229929351318\n",
            "Total Coverage of rare words: 24.476698262243286\n"
          ],
          "name": "stdout"
        }
      ]
    },
    {
      "cell_type": "code",
      "metadata": {
        "id": "1InLD8wy9GsC",
        "colab_type": "code",
        "colab": {}
      },
      "source": [
        "y_tokenizer = Tokenizer(num_words=tot_cnt-cnt) \n",
        "y_tokenizer.fit_on_texts(list(y_tr))\n",
        "\n",
        "#convert text sequences into integer sequences\n",
        "y_tr_seq    =   y_tokenizer.texts_to_sequences(y_tr) \n",
        "y_val_seq   =   y_tokenizer.texts_to_sequences(y_val) \n",
        "\n",
        "#padding zero upto maximum length\n",
        "y_tr    =   pad_sequences(y_tr_seq, maxlen=max_summary_len, padding='post')\n",
        "y_val   =   pad_sequences(y_val_seq, maxlen=max_summary_len, padding='post')\n",
        "\n",
        "#size of vocabulary\n",
        "y_voc  =   y_tokenizer.num_words +1"
      ],
      "execution_count": 0,
      "outputs": []
    },
    {
      "cell_type": "code",
      "metadata": {
        "id": "Ia5nzoaQ9LEh",
        "colab_type": "code",
        "colab": {
          "base_uri": "https://localhost:8080/",
          "height": 34
        },
        "outputId": "71a552f7-b1eb-485b-ab69-46b6caffc7d5"
      },
      "source": [
        "y_tokenizer.word_counts['sostok'],len(y_tr)"
      ],
      "execution_count": 94,
      "outputs": [
        {
          "output_type": "execute_result",
          "data": {
            "text/plain": [
              "(900, 900)"
            ]
          },
          "metadata": {
            "tags": []
          },
          "execution_count": 94
        }
      ]
    },
    {
      "cell_type": "code",
      "metadata": {
        "id": "NeiiRLE49PBR",
        "colab_type": "code",
        "colab": {}
      },
      "source": [
        "ind=[]\n",
        "for i in range(len(y_tr)):\n",
        "    cnt=0\n",
        "    for j in y_tr[i]:\n",
        "        if j!=0:\n",
        "            cnt=cnt+1\n",
        "    if(cnt==2):\n",
        "        ind.append(i)\n",
        "\n",
        "y_tr=np.delete(y_tr,ind, axis=0)\n",
        "x_tr=np.delete(x_tr,ind, axis=0)"
      ],
      "execution_count": 0,
      "outputs": []
    },
    {
      "cell_type": "code",
      "metadata": {
        "id": "OvMVantC9Tje",
        "colab_type": "code",
        "colab": {}
      },
      "source": [
        "ind=[]\n",
        "for i in range(len(y_val)):\n",
        "    cnt=0\n",
        "    for j in y_val[i]:\n",
        "        if j!=0:\n",
        "            cnt=cnt+1\n",
        "    if(cnt==2):\n",
        "        ind.append(i)\n",
        "\n",
        "y_val=np.delete(y_val,ind, axis=0)\n",
        "x_val=np.delete(x_val,ind, axis=0)"
      ],
      "execution_count": 0,
      "outputs": []
    },
    {
      "cell_type": "code",
      "metadata": {
        "id": "72ZD-SLh9Wuc",
        "colab_type": "code",
        "colab": {
          "base_uri": "https://localhost:8080/",
          "height": 607
        },
        "outputId": "f52879cb-beef-4da9-f42a-d69dc0474907"
      },
      "source": [
        "from keras import backend as K \n",
        "K.clear_session()\n",
        "\n",
        "latent_dim = 300\n",
        "embedding_dim=100\n",
        "\n",
        "# Encoder\n",
        "encoder_inputs = Input(shape=(max_text_len,))\n",
        "\n",
        "#embedding layer\n",
        "enc_emb =  Embedding(x_voc, embedding_dim,trainable=True)(encoder_inputs)\n",
        "\n",
        "#encoder lstm 1\n",
        "encoder_lstm1 = LSTM(latent_dim,return_sequences=True,return_state=True,dropout=0.4,recurrent_dropout=0.4)\n",
        "encoder_output1, state_h1, state_c1 = encoder_lstm1(enc_emb)\n",
        "\n",
        "#encoder lstm 2\n",
        "encoder_lstm2 = LSTM(latent_dim,return_sequences=True,return_state=True,dropout=0.4,recurrent_dropout=0.4)\n",
        "encoder_output2, state_h2, state_c2 = encoder_lstm2(encoder_output1)\n",
        "\n",
        "#encoder lstm 3\n",
        "encoder_lstm3=LSTM(latent_dim, return_state=True, return_sequences=True,dropout=0.4,recurrent_dropout=0.4)\n",
        "encoder_outputs, state_h, state_c= encoder_lstm3(encoder_output2)\n",
        "\n",
        "# Set up the decoder, using `encoder_states` as initial state.\n",
        "decoder_inputs = Input(shape=(None,))\n",
        "\n",
        "#embedding layer\n",
        "dec_emb_layer = Embedding(y_voc, embedding_dim,trainable=True)\n",
        "dec_emb = dec_emb_layer(decoder_inputs)\n",
        "\n",
        "decoder_lstm = LSTM(latent_dim, return_sequences=True, return_state=True,dropout=0.4,recurrent_dropout=0.2)\n",
        "decoder_outputs,decoder_fwd_state, decoder_back_state = decoder_lstm(dec_emb,initial_state=[state_h, state_c])\n",
        "\n",
        "# Attention layer\n",
        "attn_layer = AttentionLayer(name='attention_layer')\n",
        "attn_out, attn_states = attn_layer([encoder_outputs, decoder_outputs])\n",
        "\n",
        "# Concat attention input and decoder LSTM output\n",
        "decoder_concat_input = Concatenate(axis=-1, name='concat_layer')([decoder_outputs, attn_out])\n",
        "\n",
        "#dense layer\n",
        "decoder_dense =  TimeDistributed(Dense(y_voc, activation='softmax'))\n",
        "decoder_outputs = decoder_dense(decoder_concat_input)\n",
        "\n",
        "# Define the model \n",
        "model = Model([encoder_inputs, decoder_inputs], decoder_outputs)\n",
        "\n",
        "model.summary()"
      ],
      "execution_count": 97,
      "outputs": [
        {
          "output_type": "stream",
          "text": [
            "Model: \"model\"\n",
            "__________________________________________________________________________________________________\n",
            "Layer (type)                    Output Shape         Param #     Connected to                     \n",
            "==================================================================================================\n",
            "input_1 (InputLayer)            [(None, 30)]         0                                            \n",
            "__________________________________________________________________________________________________\n",
            "embedding (Embedding)           (None, 30, 100)      621700      input_1[0][0]                    \n",
            "__________________________________________________________________________________________________\n",
            "lstm (LSTM)                     [(None, 30, 300), (N 481200      embedding[0][0]                  \n",
            "__________________________________________________________________________________________________\n",
            "input_2 (InputLayer)            [(None, None)]       0                                            \n",
            "__________________________________________________________________________________________________\n",
            "lstm_1 (LSTM)                   [(None, 30, 300), (N 721200      lstm[0][0]                       \n",
            "__________________________________________________________________________________________________\n",
            "embedding_1 (Embedding)         (None, None, 100)    32700       input_2[0][0]                    \n",
            "__________________________________________________________________________________________________\n",
            "lstm_2 (LSTM)                   [(None, 30, 300), (N 721200      lstm_1[0][0]                     \n",
            "__________________________________________________________________________________________________\n",
            "lstm_3 (LSTM)                   [(None, None, 300),  481200      embedding_1[0][0]                \n",
            "                                                                 lstm_2[0][1]                     \n",
            "                                                                 lstm_2[0][2]                     \n",
            "__________________________________________________________________________________________________\n",
            "attention_layer (AttentionLayer ((None, None, 300),  180300      lstm_2[0][0]                     \n",
            "                                                                 lstm_3[0][0]                     \n",
            "__________________________________________________________________________________________________\n",
            "concat_layer (Concatenate)      (None, None, 600)    0           lstm_3[0][0]                     \n",
            "                                                                 attention_layer[0][0]            \n",
            "__________________________________________________________________________________________________\n",
            "time_distributed (TimeDistribut (None, None, 327)    196527      concat_layer[0][0]               \n",
            "==================================================================================================\n",
            "Total params: 3,436,027\n",
            "Trainable params: 3,436,027\n",
            "Non-trainable params: 0\n",
            "__________________________________________________________________________________________________\n"
          ],
          "name": "stdout"
        }
      ]
    },
    {
      "cell_type": "code",
      "metadata": {
        "id": "zySeMNyF9b8d",
        "colab_type": "code",
        "colab": {}
      },
      "source": [
        "model.compile(optimizer='rmsprop', loss='sparse_categorical_crossentropy')"
      ],
      "execution_count": 0,
      "outputs": []
    },
    {
      "cell_type": "code",
      "metadata": {
        "id": "wDqM7Hi49gzY",
        "colab_type": "code",
        "colab": {}
      },
      "source": [
        "es = EarlyStopping(monitor='val_loss', mode='min', verbose=1,patience=2)"
      ],
      "execution_count": 0,
      "outputs": []
    },
    {
      "cell_type": "code",
      "metadata": {
        "id": "Xj8iR5Sx9jr3",
        "colab_type": "code",
        "colab": {
          "base_uri": "https://localhost:8080/",
          "height": 208
        },
        "outputId": "b49bf4fd-b49d-47f1-aeb1-af61450c4af0"
      },
      "source": [
        "history=model.fit([x_tr,y_tr[:,:-1]], y_tr.reshape(y_tr.shape[0],y_tr.shape[1], 1)[:,1:] ,epochs=15,callbacks=[es],batch_size=128, validation_data=([x_val,y_val[:,:-1]], y_val.reshape(y_val.shape[0],y_val.shape[1], 1)[:,1:]))"
      ],
      "execution_count": 0,
      "outputs": [
        {
          "output_type": "stream",
          "text": [
            "Train on 879 samples, validate on 98 samples\n",
            "Epoch 1/15\n",
            "879/879 [==============================] - 36s 41ms/sample - loss: 3.3944 - val_loss: 1.4847\n",
            "Epoch 2/15\n",
            "879/879 [==============================] - 32s 36ms/sample - loss: 1.5271 - val_loss: 1.4290\n",
            "Epoch 3/15\n",
            "879/879 [==============================] - 32s 36ms/sample - loss: 1.4940 - val_loss: 1.4512\n",
            "Epoch 4/15\n",
            "879/879 [==============================] - 32s 36ms/sample - loss: 1.4939 - val_loss: 1.3978\n",
            "Epoch 5/15\n",
            "256/879 [=======>......................] - ETA: 21s - loss: 1.4555"
          ],
          "name": "stdout"
        }
      ]
    },
    {
      "cell_type": "code",
      "metadata": {
        "id": "jH2-cPxc9ofZ",
        "colab_type": "code",
        "colab": {
          "base_uri": "https://localhost:8080/",
          "height": 269
        },
        "outputId": "f0dbbddc-1996-4cbb-8047-783925abe75f"
      },
      "source": [
        "from matplotlib import pyplot\n",
        "pyplot.plot(history.history['loss'], label='train')\n",
        "pyplot.plot(history.history['val_loss'], label='test')\n",
        "pyplot.legend()\n",
        "pyplot.show()"
      ],
      "execution_count": 77,
      "outputs": [
        {
          "output_type": "display_data",
          "data": {
            "image/png": "[encoded data removed]",
            "text/plain": [
              "<Figure size 432x288 with 1 Axes>"
            ]
          },
          "metadata": {
            "tags": []
          }
        }
      ]
    },
    {
      "cell_type": "code",
      "metadata": {
        "id": "nr16L9di_ipk",
        "colab_type": "code",
        "colab": {}
      },
      "source": [
        "reverse_target_word_index=y_tokenizer.index_word\n",
        "reverse_source_word_index=x_tokenizer.index_word\n",
        "target_word_index=y_tokenizer.word_index\n",
        "\n"
      ],
      "execution_count": 0,
      "outputs": []
    },
    {
      "cell_type": "code",
      "metadata": {
        "id": "t9rK6x15_ovA",
        "colab_type": "code",
        "colab": {}
      },
      "source": [
        "# Encode the input sequence to get the feature vector\n",
        "encoder_model = Model(inputs=encoder_inputs,outputs=[encoder_outputs, state_h, state_c])\n",
        "\n",
        "# Decoder setup\n",
        "# Below tensors will hold the states of the previous time step\n",
        "decoder_state_input_h = Input(shape=(latent_dim,))\n",
        "decoder_state_input_c = Input(shape=(latent_dim,))\n",
        "decoder_hidden_state_input = Input(shape=(max_text_len,latent_dim))\n",
        "\n",
        "# Get the embeddings of the decoder sequence\n",
        "dec_emb2= dec_emb_layer(decoder_inputs) \n",
        "# To predict the next word in the sequence, set the initial states to the states from the previous time step\n",
        "decoder_outputs2, state_h2, state_c2 = decoder_lstm(dec_emb2, initial_state=[decoder_state_input_h, decoder_state_input_c])\n",
        "\n",
        "#attention inference\n",
        "attn_out_inf, attn_states_inf = attn_layer([decoder_hidden_state_input, decoder_outputs2])\n",
        "decoder_inf_concat = Concatenate(axis=-1, name='concat')([decoder_outputs2, attn_out_inf])\n",
        "\n",
        "# A dense softmax layer to generate prob dist. over the target vocabulary\n",
        "decoder_outputs2 = decoder_dense(decoder_inf_concat) \n",
        "\n",
        "# Final decoder model\n",
        "decoder_model = Model(\n",
        "    [decoder_inputs] + [decoder_hidden_state_input,decoder_state_input_h, decoder_state_input_c],\n",
        "    [decoder_outputs2] + [state_h2, state_c2])"
      ],
      "execution_count": 0,
      "outputs": []
    },
    {
      "cell_type": "code",
      "metadata": {
        "id": "hRzd1Thc_sP6",
        "colab_type": "code",
        "colab": {}
      },
      "source": [
        "def decode_sequence(input_seq):\n",
        "    # Encode the input as state vectors.\n",
        "    e_out, e_h, e_c = encoder_model.predict(input_seq)\n",
        "    \n",
        "    # Generate empty target sequence of length 1.\n",
        "    target_seq = np.zeros((1,1))\n",
        "    \n",
        "    # Populate the first word of target sequence with the start word.\n",
        "    target_seq[0, 0] = target_word_index['sostok']\n",
        "\n",
        "    stop_condition = False\n",
        "    decoded_sentence = ''\n",
        "    while not stop_condition:\n",
        "      \n",
        "        output_tokens, h, c = decoder_model.predict([target_seq] + [e_out, e_h, e_c])\n",
        "\n",
        "        # Sample a token\n",
        "        sampled_token_index = np.argmax(output_tokens[0, -1, :])\n",
        "        sampled_token = reverse_target_word_index[sampled_token_index]\n",
        "        \n",
        "        if(sampled_token!='eostok'):\n",
        "            decoded_sentence += ' '+sampled_token\n",
        "\n",
        "        # Exit condition: either hit max length or find stop word.\n",
        "        if (sampled_token == 'eostok'  or len(decoded_sentence.split()) >= (max_summary_len-1)):\n",
        "            stop_condition = True\n",
        "\n",
        "        # Update the target sequence (of length 1).\n",
        "        target_seq = np.zeros((1,1))\n",
        "        target_seq[0, 0] = sampled_token_index\n",
        "\n",
        "        # Update internal states\n",
        "        e_h, e_c = h, c\n",
        "\n",
        "    return decoded_sentence"
      ],
      "execution_count": 0,
      "outputs": []
    },
    {
      "cell_type": "code",
      "metadata": {
        "id": "ClNlXcsA_vq_",
        "colab_type": "code",
        "colab": {}
      },
      "source": [
        "def seq2summary(input_seq):\n",
        "    newString=''\n",
        "    for i in input_seq:\n",
        "        if((i!=0 and i!=target_word_index['sostok']) and i!=target_word_index['eostok']):\n",
        "            newString=newString+reverse_target_word_index[i]+' '\n",
        "    return newString\n",
        "\n",
        "def seq2text(input_seq):\n",
        "    newString=''\n",
        "    for i in input_seq:\n",
        "        if(i!=0):\n",
        "            newString=newString+reverse_source_word_index[i]+' '\n",
        "    return newString"
      ],
      "execution_count": 0,
      "outputs": []
    },
    {
      "cell_type": "code",
      "metadata": {
        "id": "wgreGQX8_yr8",
        "colab_type": "code",
        "colab": {
          "base_uri": "https://localhost:8080/",
          "height": 1000
        },
        "outputId": "332be5cc-93bf-4a8e-94b6-1c7cd7e0163c"
      },
      "source": [
        "for i in range(0,100):\n",
        "    print(\"Review:\",seq2text(x_tr[i]))\n",
        "    print(\"Original summary:\",seq2summary(y_tr[i]))\n",
        "    print(\"Predicted summary:\",decode_sequence(x_tr[i].reshape(1,max_text_len)))\n",
        "    print(\"\\n\")"
      ],
      "execution_count": 82,
      "outputs": [
        {
          "output_type": "stream",
          "text": [
            "Review: آگاهی تهران اعلام این خبر گفت هر پنج متهم پرونده با قرار قانونی و برای انجام تحقیقات تکمیلی در اختیار اداره یازدهم پلیس آگاهی تهران بزرگ قرار داده شدند ∎ \n",
            "Original summary: دستگیری داعشی های قلابی در \n",
            "Predicted summary:  تعیین نحوه های های و و و و\n",
            "\n",
            "\n",
            "Review: بهترین بازیکن و برترین گلزن خانم گل تقدیر می شود بهمنی با اشاره به پوشش تلویزیونی مراسم گفت این مراسم به صورت زنده از تلویزیون پخش خواهد شد انتهای پیام∎ \n",
            "Original summary: مراسم برترین های فوتبال ایران شنبه برگزار می شود \n",
            "Predicted summary:  تعیین نحوه های های و و و و\n",
            "\n",
            "\n",
            "Review: به دست آورد هر چند باشگاه یوونتوس رقم پیوستن او به بایرن مونیخ را اعلام نکرد اما رسانه های ایتالیایی رقم این انتقال را 40 میلیون یورو اعلام کردند ∎ \n",
            "Original summary: ویدال رسما به بایرن پیوست \n",
            "Predicted summary:  به\n",
            "\n",
            "\n",
            "Review: غافل نشوید و مراقبت شود فضای کار و تلاش تحت الشعاع انتخابات قرار نگیرد گفتنی انتخابات دوره مجلس و پنجمین دوره خبرگان رهبری اسفند ماه امسال برگزار می شود ∎ \n",
            "Original summary: برگزاری انتخابات نباید را از کند \n",
            "Predicted summary:  داعش های های در\n",
            "\n",
            "\n",
            "Review: تیم هسته ای، هدایایی معنوی را به آنان اهدا کرد و در پایان نیز اعضای تیم هسته ای و خانواده ای آنان با دکتر روحانی عکس جمعی گرفتند انتهای پیام∎ \n",
            "Original summary: کار تیم هسته ای باعث غرور ایرانیان و دوستداران انقلاب شد \n",
            "Predicted summary:  تعیین نحوه های های های و و و\n",
            "\n",
            "\n",
            "Review: صبح پنجشنبه 25 تیرماه 1394 در بیمارستان طالقانی تهران دار را گفت صفالو در آخرین روز از ماه مبارک رمضان در قطعه نام آوران به خاک سپرده شد انتهای پیام∎ \n",
            "Original summary: شبکه برای \n",
            "Predicted summary:  به\n",
            "\n",
            "\n",
            "Review: سیر تاریخی آن، فعالیت های معاونت تدوین، تنقیح و انتشار قوانین و مقررات و چالش ها و راهکارهای این بخش از جمله موارد مطرح شده در گزارش مذکور است ∎ \n",
            "Original summary: تعیین نحوه تسویه بدهی های حساب ذخیره ارزی \n",
            "Predicted summary:  تعیین نحوه های های های و و و\n",
            "\n",
            "\n",
            "Review: بزرگ، با اعلام این خبر گفت هر ۵ متهم پرونده با قرار قانونی و جهت انجام تحقیقات تکمیلی در اختیار اداره یازدهم پلیس آگاهی تهران بزرگ قرار داده شدند ∎ \n",
            "Original summary: در ها \n",
            "Predicted summary:  نحوه نحوه های های و و و و\n",
            "\n",
            "\n",
            "Review: از طریق تجارت و توسعه است رهبری دو کشور هند و پاکستان بر این که صلح نه تنها یک اولویت بلکه یک ضرورت است انتهای پیامhttp shafaqna com persian ∎ \n",
            "Original summary: به دنبال با \n",
            "Predicted summary:  به\n",
            "\n",
            "\n",
            "Review: به گزارش مشرق، قاسم دهنوی با عقد قراردادی یک ساله به تیم فوتبال صبا پیوست تا در فصل پانزدهم لیگ برتر شاگرد علی دایی شود ∎ \n",
            "Original summary: هافبک پرسپولیس به صبا پیوست \n",
            "Predicted summary:  به به\n",
            "\n",
            "\n",
            "Review: تهران موجود است گفتنی است این مراکز هم در وضعیت خوبی قرار دارد به گونه ای که در برخی مناطق بیش از یک مرکز مشاوره موجود است انتهای پیام ∎ \n",
            "Original summary: مشاوره ای و انتخاب رشته در پایگاه آموزش و پرورش \n",
            "Predicted summary:  نحوه نحوه های های و و و و\n",
            "\n",
            "\n",
            "Review: 2 قرار رد تجدیدنظرخواهی باشگاه فرهنگی ورزشی ایران خودرو نسبت به دادنامه شماره 185 مورخ 94 3 3 کمیته انضباطی فدراسیون فوتبال صادر می گردد رأی صادره قطعی است ∎ \n",
            "Original summary: راه آهن لیگ برتری ماند به \n",
            "Predicted summary:  داعش های های در\n",
            "\n",
            "\n",
            "Review: خوبی از خود به نمایش و تا رضایت دایی را جذب کردند غلام پور، محمد دایی، مهدی از جمله دایی در این دیدار بودند که روی نیمکت نشسته بودند ∎ \n",
            "Original summary: دایی با برد \n",
            "Predicted summary:  به به\n",
            "\n",
            "\n",
            "Review: از نظر من نویسنده تا هر جایی که قصه خوبی برای تعریف کردن داشته باشیم، می توانیم کار کنیم اما وقتی قصه نباشد حتی یک سکانس هم اضافی است ∎ \n",
            "Original summary: بود \n",
            "Predicted summary:  به\n",
            "\n",
            "\n",
            "Review: های آنها برای استاندار جدید بسیار مهم است تا راه را به درستی پیش ببرند؛ مراجع همیشه با دلسوزی و خیرخواهی به مدیران توصیه هایی را مطرح می کنند ∎ \n",
            "Original summary: توافق هسته ای برای توسعه کشور \n",
            "Predicted summary:  داعش های های در در\n",
            "\n",
            "\n",
            "Review: وین در بیانیه ای ایران را متهم به استمرار حمایت از تروریسم کرده و کشورمان را به عنوان یک تهدید اساسی برای امنیت و صلح جهانی معرفی کرده بود ∎ \n",
            "Original summary: واکنش وزارت خارجه ایران به بیانیه دولت کانادا \n",
            "Predicted summary:  داعش های های در در\n",
            "\n",
            "\n",
            "Review: خود بتواند از نقطه نظرات همه علاقمندان به این گروه سینمایی جهت رسیدن به الگوی متناسب با فرهنگ فیلم دیدن در سینمای ایران توسط مردم فهیم سینمادوست استفاده نماید ∎ \n",
            "Original summary: نحوه نمایش فیلم ها سینمایی در گروه «هنر و تجربه» تغییر کرد \n",
            "Predicted summary:  نحوه نحوه های های و و و و\n",
            "\n",
            "\n",
            "Review: کشورمان اضافه کرد مقامات کانادایی بهتر است به جای تک روی و پیروی از رژیم صهیونیستی از مسیر عقلانیت و منطق در مقابل جنگ طلبی و افراط استقبال کند ∎ \n",
            "Original summary: از کانادا در ایران \n",
            "Predicted summary:  به به\n",
            "\n",
            "\n",
            "Review: گرفت تمرینات ملوان امروز از ساعت ۱۸ در حالی آغاز شد که حدود ۵ هزار هوادار انزلی چی در ورزشگاه تختی برای تماشای تمرینات این تیم حاضر شده بودند ∎ \n",
            "Original summary: قلعه نویی در تمرینات ملوان حاضر شد \n",
            "Predicted summary:  قلعه نویی در در در\n",
            "\n",
            "\n",
            "Review: ما فردا بعدازظهر به اتفاق هم به انزلی و ایشان تمرینات را بگیرد در همین باره فردا چهارشنبه مراسمی برای معارفه او در ورزشگاه تختی انزلی برگزار خواهد شد ∎ \n",
            "Original summary: ملوان قلعه نویی به انزلی \n",
            "Predicted summary:  قلعه های های در در\n",
            "\n",
            "\n",
            "Review: صورت هر دو نفر ما را خواهند کشت و طی این چند روز به شیوه و شگردهای مختلف ما را مورد آزار و اذیت و تهدید قرار می دادند ∎ \n",
            "Original summary: دستگیری داعشی در تهران \n",
            "Predicted summary:  داعش های های تهران تهران\n",
            "\n",
            "\n",
            "Review: غافل و مراقبت شود فضاي کار و تلاش تحت الشعاع انتخابات قرار است، انتخابات دوره مجلس شوراي اسلامي دوره خبرگان رهبري اسفند ماه امسال برگزار مي شود پایان پیام ∎ \n",
            "Original summary: به انتخابات هاي توسعه و \n",
            "Predicted summary:  داعش های های در در\n",
            "\n",
            "\n",
            "Review: از طبقه بندی مشاغل در کارگاه خود تبعیت کنند به بالا رفتن بهره وری کارگاه و نیروهای کار خود که برای آن هزینه کرده اند، کمک می کنند انتهای پیام∎ \n",
            "Original summary: کار را می برد \n",
            "Predicted summary:  به\n",
            "\n",
            "\n",
            "Review: مسالمت آمیز و د این بحران کمک کند که د ر این زمینه نقش ایران د ر کمک به این روند بسیار ه و کمک کنند ه خواهد بود ∎ \n",
            "Original summary: ویژه سازمان ملل \n",
            "Predicted summary:  داعش های های تهران تهران\n",
            "\n",
            "\n",
            "Review: است، مخالفت کنند رسانه های آلمانی بعد از جدایی شواینی نوشتند که پپ گوآردیولا به دنبال آن است تا زمینه را برای حضور بازیکنان اسپانیایی در بایرن فراهم کند ∎ \n",
            "Original summary: را درباره \n",
            "Predicted summary:  به\n",
            "\n",
            "\n",
            "Review: محترم تدبیر و امید چه راهکاری را برای این قشر ضعیف که تاوان عملکرد غیر اصولی برخی دستگاه های اجرایی را پس می دهند، اندیشیده یا پیشنهاد می نماید ∎ \n",
            "Original summary: نامه ای به روحانی \n",
            "Predicted summary:  تعیین نحوه های های و و و و\n",
            "\n",
            "\n",
            "Review: سوم قرار دارند رقابتهای جام جهانی اسکی چمن از 15 مرداد با حضور برترین اسکی بازان این رشته از سراسر جهان در پیست بین المللی دیزین برگزار خواهد شد ∎ \n",
            "Original summary: آغاز مرحله \n",
            "Predicted summary:  به به\n",
            "\n",
            "\n",
            "Review: به ظرفیت های بالای اقتصادی جمهوری اسلامی ایران اشاره کرد و گفت سوییس از گسترش روابط و همکاری های اقتصادی و بین بانکی میان دو کشور استقبال می کند ∎ \n",
            "Original summary: ایران آماده روابط برد – برد اقتصادی با جهان است \n",
            "Predicted summary:  تعیین نحوه های های و و و و\n",
            "\n",
            "\n",
            "Review: فصل مسالمت آمیز و دمکراتیک این بحران کمک کند که در این زمینه نقش جمهوری اسلامی ایران در کمک به این روند بسیار سازنده و کمک کننده خواهد بود ∎ \n",
            "Original summary: دیدار ظریف با نماینده ویژه سازمان ملل در امور سوریه \n",
            "Predicted summary:  نحوه نحوه های های و و و و\n",
            "\n",
            "\n",
            "Review: رأی صادره قطعی است به گزارش خبرگزاری تسنیم، بر اساس این حکم تیم فوتبال راه آهن در لیگ برتر ماندنی شد و تیم پیکان به دسته اول سقوط کرد ∎ \n",
            "Original summary: راه آهن لیگ برتری ماند و پیکان سقوط کرد \n",
            "Predicted summary:  داعش های های تهران تهران\n",
            "\n",
            "\n",
            "Review: امروز به انزلی می آید تا در تمرینات تیم حاضر شود مسئولان انزلی و همچنین اعضای هیأت مدیره باشگاه از انتخاب قلعه نویی به عنوان سرمربی حمایت می کنند »∎ \n",
            "Original summary: قلعه نویی میلیارد \n",
            "Predicted summary:  به به\n",
            "\n",
            "\n",
            "Review: پیدایش» محصول کمپانی پارامونت نیز با فروش 22 2 میلیون دلاری از محل سینماهای 64 کشور جهان، مجموع فروش خود را به بیش از 196 میلیون دلار ارتقاء داد ∎ \n",
            "Original summary: چینی در صدر پرفروش های سینمای جهان \n",
            "Predicted summary:  نحوه نحوه های های و و و و\n",
            "\n",
            "\n",
            "Review: رد تجدیدنظرخواهی باشگاه فرهنگی ورزشی ایران خودرو نسبت به دادنامه شماره 185 مورخ 94 3 3 کمیته انضباطی فدراسیون فوتبال صادر می گردد رأی صادره قطعی است انتهای پیام ∎ \n",
            "Original summary: راه آهن لیگ برتری ماند \n",
            "Predicted summary:  داعش های های در\n",
            "\n",
            "\n",
            "Review: جانشین ولیعهد عربستان هم در این دیدار حضور داشتند وزیر دفاع آمریکا در این دیدار بر تمایل کشورش برای برقراری صلح و ثبات در منطقه تأکید کرد چاپ خبربالا ∎ \n",
            "Original summary: دیدار وزیر دفاع آمریکا و پادشاه سعودی \n",
            "Predicted summary:  نحوه نحوه های های و و و و\n",
            "\n",
            "\n",
            "Review: با اعلام این خبر گفت هر 5 متهم پرونده با قرار قانونی و جهت انجام تحقیقات تکمیلی در اختیار اداره یازدهم پلیس آگاهی تهران بزرگ قرار داده شدند منبع باشگاه \n",
            "Original summary: داعش های قلابی تهران دستگیر شدند \n",
            "Predicted summary:  تعیین نحوه های های و و و و\n",
            "\n",
            "\n",
            "Review: 7»، «پنجاه طیف خاکستری» و «صدا شش دانگ 2» و همچنین انیمیشن جدید «مینیون ها» نیز نقش قابل ملاحظه ای در ثبت این رکورد برای کمپانی یونیورسال داشته اند ∎ \n",
            "Original summary: پرفروش ترین فیلم سال \n",
            "Predicted summary:  پیروزی های های به\n",
            "\n",
            "\n",
            "Review: گزارش به شورای امنیت، در حال نهایی کردن خود به دبیرکل در خصوص راه های حمایت از طرف های سوری جهت یافتن راه حل سیاسی برای این مناقشه است ∎ \n",
            "Original summary: بیانیه سازمان ملل در سفر دی میستورا به ایران \n",
            "Predicted summary:  داعش های های تهران تهران\n",
            "\n",
            "\n",
            "Review: هماهنگی سفر برای گردشگران استان شد استان تاریخی همدان با یک هزار و اثر تاریخی و در تعطیلات عید سعید فطر سال گذشته میزبان هزار نفر مسافر و گردشگر بود \n",
            "Original summary: در از یک بود \n",
            "Predicted summary:  به به\n",
            "\n",
            "\n",
            "Review: بیست و شش قسمت ماه مبارک رمضان مهمان خانه مردم بود این سریال که از شبکه یک سیما به روی آنتن رفت ترین سریال ماه مبارک رمضان اعلام شد ∎ \n",
            "Original summary: درباره تغییرات \n",
            "Predicted summary:  به\n",
            "\n",
            "\n",
            "Review: هم بهترین بازیکن و برترین گلزن خانم گل تقدیر می شود بهمنی با اشاره به پوشش تلویزیونی مراسم گفت این مراسم به صورت زنده از تلویزیون پخش خواهد شد ∎ \n",
            "Original summary: برترین ها می شوند \n",
            "Predicted summary:  تعیین نحوه های های و و و و\n",
            "\n",
            "\n",
            "Review: جهت غنی سازی هرچه بهتر اوقات فراغت تابستانی دانش آموزان و آشنایی بیشتر مشاوران برای برگزاری کلاس های مشاوره رایگان برای دانش آموزان در سراسر کشور برگزار می شود ∎ \n",
            "Original summary: جلسه انتخاب رشته کنکور با حضور \n",
            "Predicted summary:  داعش های های تهران تهران\n",
            "\n",
            "\n",
            "Review: 7»، «پنجاه طیف خاکستری» و «صدا شش دانگ 2» و همچنین انیمیشن جدید «مینیون ها» نیز نقش قابل ملاحظه ای در ثبت این رکورد برای کمپانی یونیورسال داشته اند ∎ \n",
            "Original summary: معرفی پرفروش ترین فیلم سال 2015 \n",
            "Predicted summary:  پیروزی های های به\n",
            "\n",
            "\n",
            "Review: بازیکنان پرداخت کرده است جلسه هیئت مدیره ملوان در تهران برگزار خواهد شد و در این جلسه قرار است در رابطه با آینده باشگاه ملوان اتخاذ شود انتهای پیام ج∎ \n",
            "Original summary: قلعه نویی به انزلی \n",
            "Predicted summary:  قلعه های در در\n",
            "\n",
            "\n",
            "Review: گذاری کنند رییس مجلس شورای اسلامی خاطرنشان کرد قم دارای زمینه های بسیاری برای سرمایه گذاری است که از آن جمله می توان به بحث صادرات فرش اشاره کرد ∎ \n",
            "Original summary: توافق نباید باعث دو در کشور شود \n",
            "Predicted summary:  داعش های های تهران تهران\n",
            "\n",
            "\n",
            "Review: و ملت بلژیک صمیمانه تبریک می گویم از خداوند متعال، سلامتی و موفقیت آن جناب و عزت و سرافرازی دولت و ملت بلژیک را دارم حسن جمهوری اسلامی خبربالا ∎ \n",
            "Original summary: روحانی روز ملی بلژیک را تبریک گفت \n",
            "Predicted summary:  نحوه نحوه های های و و و و\n",
            "\n",
            "\n",
            "Review: بر قهر يا هر موضوع ديگري که اين روزها مطرح مي شود را باور نکنند زيرا من با تيم استقلال قرار داد دارم و به اين قرار داد متعهدم ∎ \n",
            "Original summary: واکنش خسرو به قهرش از استقلال \n",
            "Predicted summary:  به به\n",
            "\n",
            "\n",
            "Review: وین در بیانیه ای ایران را متهم به استمرار حمایت از تروریسم کرده و کشورمان را به عنوان یک تهدید اساسی برای امنیت و صلح جهانی معرفی کرده بود ∎ \n",
            "Original summary: وزارت امور خارجه در به بیانیه وزارت خارجه \n",
            "Predicted summary:  داعش های های در در\n",
            "\n",
            "\n",
            "Review: علی علیپور به میدان رفتند تیم پرسپولیس با لباس قرمز و تیم آلتین اسیر با لباس آبی بازی می کنند از ۱۰ ملی پوش ترکمنستان ۶ نفر بازی کردند ∎ \n",
            "Original summary: پیروزی پرگل پرسپولیس در ترکیه \n",
            "Predicted summary:  قلعه های های در\n",
            "\n",
            "\n",
            "Review: به دست آورد هر چند باشگاه یوونتوس رقم پیوستن او به بایرن مونیخ را اعلام نکرد اما رسانه های ایتالیایی رقم این انتقال را 40 میلیون یورو اعلام کردند ∎ \n",
            "Original summary: ویدال رسما به بایرن پیوست \n",
            "Predicted summary:  به\n",
            "\n",
            "\n",
            "Review: میهمان نوازی و نجابت مردم شریف کردستان را به دنیا نشان دهید دکتر حسن روحانی رییس جمهوری اسلامی ایران روز یکشنبه چهارم تیرماه جاری مهمان مردم کردستان خواهند بود ک \n",
            "Original summary: نمایندگان از مردم برای استقبال از رییس \n",
            "Predicted summary:  داعش های های تهران در\n",
            "\n",
            "\n",
            "Review: بلژیک صمیمانه تبریک می گویم از خداوند متعال، سلامتی و موفقیت آن جناب و عزت و سرافرازی دولت و ملت بلژیک را مسألت دارم حسن روحانیرییس جمهوری اسلامی ایران ∎ \n",
            "Original summary: روحانی روز ملی بلژیک را تبریک گفت \n",
            "Predicted summary:  نحوه نحوه های های و و و و\n",
            "\n",
            "\n",
            "Review: نیا، میلاد کمندانی و علی علیپور به میدان رفتند تیم پرسپولیس با لباس قرمز و تیم آلتین عصر با لباس آبی بازی کردند این دیدار در ترکیه برگزار شد شبس \n",
            "Original summary: پرسپولیس را در هم \n",
            "Predicted summary:  قلعه به به به\n",
            "\n",
            "\n",
            "Review: بزرگ، با اعلام این خبر گفت هر ۵ متهم پرونده با قرار قانونی و جهت انجام تحقیقات تکمیلی در اختیار اداره یازدهم پلیس آگاهی تهران بزرگ قرار داده شدند ∎ \n",
            "Original summary: داعش های قلابی تهران دستگیر شدند عکس \n",
            "Predicted summary:  نحوه نحوه های های و و و و\n",
            "\n",
            "\n",
            "Review: نور در پایان افزود این تفاهم نامه زمینه بین المللی شدن ستاد راهیان نور را فراهم می آورد و به عنوان یکی از افتخارات دولت یازدهم ثبت می شود ∎ \n",
            "Original summary: ستاد مرکزی راهیان نور و سازمان میراث فرهنگی تفاهم نامه همکاری کردند \n",
            "Predicted summary:  نحوه نحوه های های و و و و\n",
            "\n",
            "\n",
            "Review: 1 درصد و شکر 1 2 درصد افزایش داشت، ولی قیمت روغن نباتی جامد 0 1 درصد کاهش داشت قیمت چای خارجی و روغن نباتی مایع نیز ثابت ماند ∎ \n",
            "Original summary: بانک مرکزی از قیمت \n",
            "Predicted summary:  به\n",
            "\n",
            "\n",
            "Review: عنوان سرمربی روی نیمکت صبا نشسته بود رضا حقیقی هافبک جدید صبا در یک صحنه پس از اعتراض به تصمیم داور با دریافت کارت قرمز از زمین اخراج شد ∎ \n",
            "Original summary: شکست دایی مقابل سایپا \n",
            "Predicted summary:  پیروزی از از در\n",
            "\n",
            "\n",
            "Review: زحمات اعضای تیم هسته ای، هدایایی معنوی را به آنان اهدا کرد و در پایان نیز اعضای تیم هسته ای و خانواده ای آنان با روحانی عکس جمعی گرفتند ∎ \n",
            "Original summary: در دیدار روحانی با اعضای تیم هسته ای \n",
            "Predicted summary:  تعیین نحوه های های های و و\n",
            "\n",
            "\n",
            "Review: تسهیلات بانکی با هماهنگی دستگاه های دولتی و بانکی در دستور کار مسئولان امر قرار گیرد تا مددجویان بعد از بهبود یافتن با معضل بیکاری روبه رو انتهای پیام ج∎ \n",
            "Original summary: در مازندران می شود \n",
            "Predicted summary:  به به\n",
            "\n",
            "\n",
            "Review: این شهر و محل تمرین ملوانان شود سرمربی فصل گذشته استقلال با استقبال بیش از 2 هزار هوادار ملوان که در ورزشگاه تختی حضور دارند راهی این ورزشگاه شد ∎ \n",
            "Original summary: قلعه نویی وارد انزلی شد \n",
            "Predicted summary:  داعش های های تهران در\n",
            "\n",
            "\n",
            "Review: 2 قرار رد تجدیدنظرخواهی باشگاه فرهنگی ورزشی ایران خودرو نسبت به دادنامه شماره 185 مورخ 94 3 3 کمیته انضباطی فدراسیون فوتبال صادر می گردد رأی صادره قطعی است ∎ \n",
            "Original summary: رای کمیته استیناف شد پیکان سقوط کرد راه شد \n",
            "Predicted summary:  داعش های های در\n",
            "\n",
            "\n",
            "Review: 1 درصد و شکر 1 2 درصد افزایش داشت، ولی قیمت روغن نباتی جامد 0 1 درصد کاهش داشت قیمت چای خارجی و روغن نباتی مایع نیز ثابت ماند ∎ \n",
            "Original summary: و میوه شدند \n",
            "Predicted summary:  به\n",
            "\n",
            "\n",
            "Review: جام های جهانی خواهد شد رینات داسایف در جام های جهانی 1982، 1986 و 1990 بازی کرد و اکنون به عنوان یکی از سفیران جام جهانی روسیه مطرح است ∎ \n",
            "Original summary: معرفی مهمانان حاضر در مراسم قرعه کشی جام جهانی روسیه \n",
            "Predicted summary:  نحوه های های های تهران و\n",
            "\n",
            "\n",
            "Review: بیان کرد در بحث کل جرائم آمار پرونده های ورودی 34 درصد افزایش و در زمینه دستگیر شدگان به تفکیک جرم سرقت 8 درصد کاهش داشته ایم انتهای پیام ث3001∎ \n",
            "Original summary: های به های \n",
            "Predicted summary:  به\n",
            "\n",
            "\n",
            "Review: اشاره به مواضع روشن ايران در حمايت از سوريه افزود ما اصلاحات در سوريه را مي اما هرگونه بايد به روش و در داخل سوريه توسط مردم انجام شود ∎ \n",
            "Original summary: اصلاحات در است اما باشد \n",
            "Predicted summary:  نحوه های های های و و و\n",
            "\n",
            "\n",
            "Review: بیانیه ای ایران را متهم به استمرار حمایت از تروریسم نموده و کشورمان را به عنوان یک تهدید اساسی برای امنیت و صلح جهانی معرفی کرده بود چاپ خبربالا ∎ \n",
            "Original summary: از کانادا در ایران \n",
            "Predicted summary:  قلعه نویی به در\n",
            "\n",
            "\n",
            "Review: اعضای تیم هسته ای، هدایایی معنوی را به آنان اهدا کرد و در پایان نیز اعضای تیم هسته ای و خانواده ای آنان با دکتر روحانی عکس جمعی گرفتند ∎ \n",
            "Original summary: دیدار روحانی با تیم هسته ای و خانواده \n",
            "Predicted summary:  تعیین نحوه های های های و و و\n",
            "\n",
            "\n",
            "Review: فصل مسالمت آمیز و دمکراتیک این بحران کمک کند که در این زمینه نقش جمهوری اسلامی ایران در کمک به این روند بسیار سازنده و کمک کننده خواهد بود ∎ \n",
            "Original summary: دیدار ظریف با نماینده سازمان ملل در امور سوریه \n",
            "Predicted summary:  نحوه نحوه های های و و و و\n",
            "\n",
            "\n",
            "Review: تیم هسته ای، هدایایی معنوی را به آنان اهدا کرد و در پایان نیز اعضای تیم هسته ای و خانواده ای آنان با روحانی عکس جمعی گرفتند انتهای پیام ∎ \n",
            "Original summary: موفق شدند حمایت ها و هدایت رهبر معظم انقلاب بزرگترین سرمایه برای موفقیت بود \n",
            "Predicted summary:  تعیین نحوه های های های و و و\n",
            "\n",
            "\n",
            "Review: گرمی برای قلعه نویی ایجاد کردند بالغ بر 2 هزار هوادار در ورزشگاه تختی انزلی حضور دارند تا سرمربی جدید تیم خود را مورد لطف و تشویق قرار دهند ∎ \n",
            "Original summary: استقبال 2 هزار از سرمربی جدید ملوان \n",
            "Predicted summary:  داعش های های در\n",
            "\n",
            "\n",
            "Review: دخالت خارجی در این کشور، اظهار امیدواری کرد که همه گروه های یمنی از طریق گفتگو به یک راه حل قابل قبول و واقع بینانه برای خروج از بحران دست \n",
            "Original summary: امیرعبداللهیان با ای که سوریه را \n",
            "Predicted summary:  داعش های های در در\n",
            "\n",
            "\n",
            "Review: های انتخابی جام جهانی روسیه می گذارند قرعه کشی مرحله نخست انتخابی جام جهانی روسیه به غیر از قاره آسیا روز شنبه در سنت پترزبورگ روسیه برگزار خواهد شد ∎ \n",
            "Original summary: فیفا اعلام کرد رکورد شگفت انگیز علی دایی در های جام جهانی \n",
            "Predicted summary:  نحوه نحوه های های و و و و\n",
            "\n",
            "\n",
            "Review: سم بین باغداران و حذف شاخه های آلوده از جمله اقداماتی بوده که باعث افزایش کیفیت لیموترش این منطقه شده است شهرستان دره شهر در جنوب استان ایلام قرار دارد \n",
            "Original summary: از آغاز شد \n",
            "Predicted summary:  به\n",
            "\n",
            "\n",
            "Review: های موجود داخلی، در جهت ارتقای سطح تولید ملی و تحقق اقتصاد مقاومتی مجموعه شهرداری های کشور را یاری کند نظری ثبت نشده است نام کد را وارد کنید ∎ \n",
            "Original summary: استقبال شرکت های دانش از فن بازار تخصصی مدیریت \n",
            "Predicted summary:  تعیین نحوه های های و و و و\n",
            "\n",
            "\n",
            "Review: بازیکنان و کادرفنی پرداخت خواهیم کرد تمرین تیم فوتبال ملوان بندرانزلی از ساعت 18 حدود زیر نظر اکبر محمدی دستیار اول امیر قلعه نویی در ورزشگاه تختی این شهر ∎ \n",
            "Original summary: نخستین قلعه نویی با ملوان \n",
            "Predicted summary:  قلعه های در در در\n",
            "\n",
            "\n",
            "Review: ، با اعلام این خبر گفت هر 5 متهم پرونده با قرار قانونی و جهت انجام تحقیقات تکمیلی در اختیار اداره یازدهم پلیس آگاهی تهران بزرگ قرار داده شدند ∎ \n",
            "Original summary: دستگیری داعشی های قلابی تهران عکس \n",
            "Predicted summary:  تعیین نحوه های های و و و و\n",
            "\n",
            "\n",
            "Review: ما به اتمام نرسیده است باید به همین روند ادامه دهیم تا تیم مان به آمادگی کامل برسد و بعد براساس آمادگی بازیکنان به ترکیب ثابت دست خواهیم یافت ∎ \n",
            "Original summary: برانکو دوست دارم پرسپولیس تهاجمی بازی کند \n",
            "Predicted summary:  داعش های های تهران\n",
            "\n",
            "\n",
            "Review: سیر تاریخی آن، فعالیت های معاونت تدوین، تنقیح و انتشار قوانین و مقررات و چالش ها و راهکارهای این بخش از جمله موارد مطرح شده در گزارش مذکور است ∎ \n",
            "Original summary: تعیین نحوه تسویه بدهی های حساب ذخیره ارزی \n",
            "Predicted summary:  تعیین نحوه های های های و و و\n",
            "\n",
            "\n",
            "Review: هم بهترین بازیکن و برترین گلزن خانم گل تقدیر می شود بهمنی با اشاره به پوشش تلویزیونی مراسم گفت این مراسم به صورت زنده از تلویزیون پخش خواهد شد ∎ \n",
            "Original summary: برترین های فوتبال ایران معرفی می شوند \n",
            "Predicted summary:  تعیین نحوه های های و و و و\n",
            "\n",
            "\n",
            "Review: و عناصر ریز مبارزه با شانکر و توزیع سم بین باغداران و حذف شاخه های آلوده از جمله اقداماتی بوده که باعث کیفیت بهتر لیموترش منطقه شده است انتهای پیام∎ \n",
            "Original summary: در \n",
            "Predicted summary:  به\n",
            "\n",
            "\n",
            "Review: اعلام این خبر گفت ” هر ۵ متهم پرونده با قرار قانونی و جهت انجام تحقیقات تکمیلی در اختیار اداره یازدهم پلیس آگاهی تهران بزرگ قرار داده شدند ” ∎ \n",
            "Original summary: داعش های قلابی تهران دستگیر شدند \n",
            "Predicted summary:  تعیین نحوه های های و و و و\n",
            "\n",
            "\n",
            "Review: ۵ درصد و روغن نباتی ۰ ۸ درصد افزایش داشته در مدت مذکور نرخ سبزی های تازه ۱ ۶ درصد و گوشت مرغ ۶ ۲ درصد کاهش یافته است ∎ \n",
            "Original summary: گروه \n",
            "Predicted summary:  به\n",
            "\n",
            "\n",
            "Review: شد، از روزی که برای تمرین به اینجا آمدیم تا روزی که قهرمان شدیم و برد و های زیادی داشتیم واقعا تمام این خاطرات از مقابل عبور می کرد ∎ \n",
            "Original summary: نکونام می در فوتبال بازی با دایی و می \n",
            "Predicted summary:  نحوه های های های تهران و\n",
            "\n",
            "\n",
            "Review: کردیم اما متاسفانه در نظام های آن مانند نظام بودجه نظام و نظام اقتصادی تغییر ایجاد نشد و اکنون فرصت خوبی است که نظام اقتصادی کشور را تقویت کنیم ∎ \n",
            "Original summary: در ملی بیشتری کنیم \n",
            "Predicted summary:  قلعه نویی به به\n",
            "\n",
            "\n",
            "Review: 1 درصد و شکر 1 2 درصد افزایش داشت، ولی قیمت روغن نباتی جامد 0 1 درصد کاهش داشت قیمت چای خارجی و روغن نباتی مایع نیز ثابت ماند ∎ \n",
            "Original summary: و میوه شدند \n",
            "Predicted summary:  به\n",
            "\n",
            "\n",
            "Review: پیرامون حل بحران سوریه، ضرورت همکاری جمعی کشورهای دارای تأثیر در صحنه سوریه و حضور جمهوری اسلامی ایران در این همکاری ها را مورد تأکید قرار داد انتهای پیام ∎ \n",
            "Original summary: امیرعبداللهیان اصلاحات در سوریه ضروری است اما باید داخلی باشد \n",
            "Predicted summary:  داعش های های تهران تهران\n",
            "\n",
            "\n",
            "Review: پیش بینی شده برای بازگشت فوری تحریم های ایران در صورت ایرانیان از بندهای توافق ابراز نگرانی کرده است؛ نگرانی هایی که کارتر آنها را مشترک خوانده است انتهای پیام \n",
            "Original summary: سعودی ها با با توافق هسته ای \n",
            "Predicted summary:  نحوه های های های تهران و\n",
            "\n",
            "\n",
            "Review: عنوان سرمربی روی نیمکت صبا نشسته بود رضا حقیقی هافبک جدید صبا در یک صحنه پس از اعتراض به تصمیم داور با دریافت کارت قرمز از زمین اخراج شد ∎ \n",
            "Original summary: شکست صبا با علی دایی \n",
            "Predicted summary:  پیروزی از از در\n",
            "\n",
            "\n",
            "Review: ، با اعلام این خبر گفت هر 5 متهم پرونده با قرار قانونی و جهت انجام تحقیقات تکمیلی در اختیار اداره یازدهم پلیس آگاهی تهران بزرگ قرار داده شدند ∎ \n",
            "Original summary: داعشی های قلابی تهران بازداشت شدند \n",
            "Predicted summary:  تعیین نحوه های های و و و و\n",
            "\n",
            "\n",
            "Review: صادر می کرد ایران همواره آنها را کاغذپاره می خواند و وقعی برای اجرای آن قایل نمی شد و نشد و اکنون نیز قاعده می تواند همان باشد انتهای پیام∎ \n",
            "Original summary: ماجرای دفاع ظریف از سپاه در مذاکرات \n",
            "Predicted summary:  داعش های های تهران تهران\n",
            "\n",
            "\n",
            "Review: اند، دولت محترم تدبیر وامید چه راهکاری را برای این قشر ضعیف که تاوان عملکرد غیر اصولی برخی دستگاههای اجرایی را پس می دهند، اندیشیده یا پیشنهاد می نماید »∎ \n",
            "Original summary: روحانی تکلیف پدیده شاندیز و میزان را \n",
            "Predicted summary:  تعیین نحوه های های و و و و\n",
            "\n",
            "\n",
            "Review: دولت محترم تدبیر وامید چه راهکاری را برای این قشر ضعیف که تاوان عملکرد غیر اصولی برخی دستگاههای اجرایی را پس می دهند، اندیشیده یا پیشنهاد می نماید »انتهای پیام∎ \n",
            "Original summary: نامه به روحانی برای تعیین تکلیف دو شرکت پدیده شاندیز و میزان \n",
            "Predicted summary:  تعیین نحوه های های و و و و\n",
            "\n",
            "\n",
            "Review: از هدایت پرسپولیس کنار گذاشته شد، هدایت صبای قم را پذیرفته است این دو تیم از دقایقی پیش در استادیوم دستگردی به مصاف هم رفته اند جواد دایی سرمربی ∎ \n",
            "Original summary: اولین نکونام و دایی در دیدار عکس \n",
            "Predicted summary:  نحوه نحوه های های و و و و\n",
            "\n",
            "\n",
            "Review: خارجی بوده اند گفتنی است، استان کرمانشاه با بیش از چهار هزار اثر تاریخی و طبیعی شناخته شده در مختلف سال پذیرای گردشگران داخلی و خارجی است انتهای پیام ض1002∎ \n",
            "Original summary: سفر از هزار در به کرمانشاه در صدر \n",
            "Predicted summary:  داعش های های تهران در\n",
            "\n",
            "\n",
            "Review: ، با اعلام این خبر گفت هر ۵ متهم پرونده با قرار قانونی و جهت انجام تحقیقات تکمیلی در اختیار اداره یازدهم پلیس آگاهی تهران بزرگ قرار داده شدند ∎ \n",
            "Original summary: بازداشت داعش های قلابی در تهران \n",
            "Predicted summary:  تعیین نحوه های های و و و و\n",
            "\n",
            "\n",
            "Review: با حضور 29 تیم در شهر حفای چین در حال برگزاری است صادق نژاد اضافه کرد مرحله مقدماتی این لیگ تا روزه 29 تیر ماه ادامه دارد انتهای پیام ∎ \n",
            "Original summary: صعود تیم ربات های و دانشگاه امیرکبیر به مرحله مسابقات جهانی ربوکاپ 2015 \n",
            "Predicted summary:  نحوه های های های تهران و\n",
            "\n",
            "\n",
            "Review: توصیف کرده است وزیر دفاع ایالات در پی دیدار با ملک سلمان، پادشاه عربستان در عین حال گفته است که در پاییز پیش رو از آمریکا دیدار خواهد کرد ∎ \n",
            "Original summary: عربستان از توافق حمایت است \n",
            "Predicted summary:  به به\n",
            "\n",
            "\n",
            "Review: به گزارش افکارنیوز، قاسم دهنوی با عقد قراردادی یک ساله به تیم فوتبال صبا پیوست تا در فصل پانزدهم لیگ برتر شاگرد علی دایی شود ∎ \n",
            "Original summary: هافبک پرسپولیس به صبا پیوست \n",
            "Predicted summary:  به به\n",
            "\n",
            "\n",
            "Review: آن، فعالیت های معاونت تدوین، تنقیح و انتشار قوانین و مقررات و چالش ها و راهکارهای این بخش از جمله موارد مطرح شده در گزارش مذکور است انتهای پیام ∎ \n",
            "Original summary: ذخیره ارزی تعیین شد اختصاص هزار و 500 میلیارد ریال برای خرید محصولات کشاورزی \n",
            "Predicted summary:  تعیین نحوه های های های و و و\n",
            "\n",
            "\n",
            "Review: دیر کارمان را شروع کردیم ولی می​توانیم با وفاق، همدلی و تعامل میان بازیکنان، با تمام وجود و احساس بازی کنیم تا ان​شاءالله عقب​ماندگی​های پیش فصل را جبران کنیم ∎ \n",
            "Original summary: برای انتخاب \n",
            "Predicted summary:  به\n",
            "\n",
            "\n",
            "Review: جام های جهانی خواهد شد رینات داسایف در جام های جهانی 1982، 1986 و 1990 بازی کرد و اکنون به عنوان یکی از سفیران جام جهانی روسیه مطرح است ∎ \n",
            "Original summary: معرفی مهمانان حاضر در مراسم قرعه کشی جام جهانی روسیه \n",
            "Predicted summary:  نحوه های های های تهران و\n",
            "\n",
            "\n"
          ],
          "name": "stdout"
        }
      ]
    },
    {
      "cell_type": "code",
      "metadata": {
        "id": "-4LevkKN_1at",
        "colab_type": "code",
        "colab": {}
      },
      "source": [
        ""
      ],
      "execution_count": 0,
      "outputs": []
    }
  ]
}